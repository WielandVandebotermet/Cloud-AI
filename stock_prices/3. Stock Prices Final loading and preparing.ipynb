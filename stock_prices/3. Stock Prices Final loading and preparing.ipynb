{
 "cells": [
  {
   "cell_type": "markdown",
   "metadata": {},
   "source": [
    "## Stock prices - Final Loading & Preparing\n",
    "Done by Wieland Vandebotermet"
   ]
  },
  {
   "cell_type": "markdown",
   "metadata": {},
   "source": [
    "# Importing all required libraries"
   ]
  },
  {
   "cell_type": "markdown",
   "metadata": {},
   "source": [
    "python3.10 -m venv StockPrediction"
   ]
  },
  {
   "cell_type": "code",
   "execution_count": 19,
   "metadata": {},
   "outputs": [],
   "source": [
    "import pandas as pd\n",
    "from scipy.stats.mstats import winsorize\n",
    "from IPython.display import display"
   ]
  },
  {
   "cell_type": "markdown",
   "metadata": {},
   "source": [
    "# Clean and explore"
   ]
  },
  {
   "cell_type": "code",
   "execution_count": 23,
   "metadata": {},
   "outputs": [],
   "source": [
    "column_names = [\"datetime\", \"adj_close\", \"close\", \"high\", \"low\", \"open\", \"volume\"]\n",
    "\n",
    "FixedAMD = pd.read_csv(\"./Data/amd_stock_data_1985-2023.csv\", skiprows=3, names=column_names, header=None)\n",
    "FixedIntel = pd.read_csv(\"./Data/intel_stock_data_1985-2023.csv\", skiprows=3, names=column_names, header=None)\n",
    "\n",
    "FixedAMD['datetime'] = pd.to_datetime(FixedAMD['datetime'])\n",
    "FixedIntel['datetime'] = pd.to_datetime(FixedIntel['datetime'])"
   ]
  },
  {
   "cell_type": "markdown",
   "metadata": {},
   "source": [
    "Now we will check if the data is as it schould be, we will do the test with one of our 2 datasets. "
   ]
  },
  {
   "cell_type": "code",
   "execution_count": 24,
   "metadata": {},
   "outputs": [
    {
     "name": "stdout",
     "output_type": "stream",
     "text": [
      "\n",
      " fixed head:\n"
     ]
    },
    {
     "data": {
      "text/html": [
       "<div>\n",
       "<style scoped>\n",
       "    .dataframe tbody tr th:only-of-type {\n",
       "        vertical-align: middle;\n",
       "    }\n",
       "\n",
       "    .dataframe tbody tr th {\n",
       "        vertical-align: top;\n",
       "    }\n",
       "\n",
       "    .dataframe thead th {\n",
       "        text-align: right;\n",
       "    }\n",
       "</style>\n",
       "<table border=\"1\" class=\"dataframe\">\n",
       "  <thead>\n",
       "    <tr style=\"text-align: right;\">\n",
       "      <th></th>\n",
       "      <th>datetime</th>\n",
       "      <th>adj_close</th>\n",
       "      <th>close</th>\n",
       "      <th>high</th>\n",
       "      <th>low</th>\n",
       "      <th>open</th>\n",
       "      <th>volume</th>\n",
       "    </tr>\n",
       "  </thead>\n",
       "  <tbody>\n",
       "    <tr>\n",
       "      <th>0</th>\n",
       "      <td>1985-01-02 00:00:00+00:00</td>\n",
       "      <td>0.319440</td>\n",
       "      <td>0.572917</td>\n",
       "      <td>0.588542</td>\n",
       "      <td>0.567708</td>\n",
       "      <td>0.583333</td>\n",
       "      <td>27259200</td>\n",
       "    </tr>\n",
       "    <tr>\n",
       "      <th>1</th>\n",
       "      <td>1985-01-03 00:00:00+00:00</td>\n",
       "      <td>0.325247</td>\n",
       "      <td>0.583333</td>\n",
       "      <td>0.593750</td>\n",
       "      <td>0.572917</td>\n",
       "      <td>0.572917</td>\n",
       "      <td>31075200</td>\n",
       "    </tr>\n",
       "    <tr>\n",
       "      <th>2</th>\n",
       "      <td>1985-01-04 00:00:00+00:00</td>\n",
       "      <td>0.331056</td>\n",
       "      <td>0.593750</td>\n",
       "      <td>0.598958</td>\n",
       "      <td>0.583333</td>\n",
       "      <td>0.583333</td>\n",
       "      <td>11688000</td>\n",
       "    </tr>\n",
       "    <tr>\n",
       "      <th>3</th>\n",
       "      <td>1985-01-07 00:00:00+00:00</td>\n",
       "      <td>0.339768</td>\n",
       "      <td>0.609375</td>\n",
       "      <td>0.609375</td>\n",
       "      <td>0.588542</td>\n",
       "      <td>0.593750</td>\n",
       "      <td>12465600</td>\n",
       "    </tr>\n",
       "    <tr>\n",
       "      <th>4</th>\n",
       "      <td>1985-01-08 00:00:00+00:00</td>\n",
       "      <td>0.328152</td>\n",
       "      <td>0.588542</td>\n",
       "      <td>0.619792</td>\n",
       "      <td>0.578125</td>\n",
       "      <td>0.609375</td>\n",
       "      <td>33734400</td>\n",
       "    </tr>\n",
       "  </tbody>\n",
       "</table>\n",
       "</div>"
      ],
      "text/plain": [
       "                   datetime  adj_close     close      high       low  \\\n",
       "0 1985-01-02 00:00:00+00:00   0.319440  0.572917  0.588542  0.567708   \n",
       "1 1985-01-03 00:00:00+00:00   0.325247  0.583333  0.593750  0.572917   \n",
       "2 1985-01-04 00:00:00+00:00   0.331056  0.593750  0.598958  0.583333   \n",
       "3 1985-01-07 00:00:00+00:00   0.339768  0.609375  0.609375  0.588542   \n",
       "4 1985-01-08 00:00:00+00:00   0.328152  0.588542  0.619792  0.578125   \n",
       "\n",
       "       open    volume  \n",
       "0  0.583333  27259200  \n",
       "1  0.572917  31075200  \n",
       "2  0.583333  11688000  \n",
       "3  0.593750  12465600  \n",
       "4  0.609375  33734400  "
      ]
     },
     "metadata": {},
     "output_type": "display_data"
    }
   ],
   "source": [
    "print(\"\\n fixed head:\")\n",
    "display(FixedIntel.head())"
   ]
  },
  {
   "cell_type": "markdown",
   "metadata": {},
   "source": [
    "And everything seems to be in order, so we can go and save our data."
   ]
  },
  {
   "cell_type": "code",
   "execution_count": 26,
   "metadata": {},
   "outputs": [],
   "source": [
    "# Now we cleaned the data we save it to a CSV.\n",
    "\n",
    "Path_AMD = \"./Data/AMD_CleanedDaily.csv\"\n",
    "Path_Intel = \"./Data/Intel_CleanedDaily.csv\"\n",
    "\n",
    "FixedAMD.to_csv(Path_AMD, index=False)\n",
    "FixedIntel.to_csv(Path_Intel, index=False)"
   ]
  }
 ],
 "metadata": {
  "kernelspec": {
   "display_name": "StockPrediction",
   "language": "python",
   "name": "python3"
  },
  "language_info": {
   "codemirror_mode": {
    "name": "ipython",
    "version": 3
   },
   "file_extension": ".py",
   "mimetype": "text/x-python",
   "name": "python",
   "nbconvert_exporter": "python",
   "pygments_lexer": "ipython3",
   "version": "3.10.11"
  }
 },
 "nbformat": 4,
 "nbformat_minor": 2
}
