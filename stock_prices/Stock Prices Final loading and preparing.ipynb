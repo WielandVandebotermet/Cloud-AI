{
 "cells": [
  {
   "cell_type": "markdown",
   "metadata": {},
   "source": [
    "## Stock prices - Final Loading & Preparing\n",
    "Done by Wieland Vandebotermet\n",
    "\n",
    "### Which Companies?\n",
    "\n",
    "#### Intel\n",
    "#### AMD"
   ]
  },
  {
   "cell_type": "markdown",
   "metadata": {},
   "source": [
    "# Importing all required libraries"
   ]
  },
  {
   "cell_type": "code",
   "execution_count": null,
   "metadata": {},
   "outputs": [],
   "source": [
    "import pandas as pd\n",
    "from scipy.stats.mstats import winsorize"
   ]
  },
  {
   "cell_type": "markdown",
   "metadata": {},
   "source": [
    "# Clean and explore"
   ]
  },
  {
   "cell_type": "code",
   "execution_count": 9,
   "metadata": {},
   "outputs": [],
   "source": [
    "column_names = [\"datetime\", \"adj_close\", \"close\", \"high\", \"low\", \"open\", \"volume\"]\n",
    "\n",
    "FixedAMD = pd.read_csv(\"./Data/amd_stock_data_1985-2023.csv\", skiprows=3, names=column_names, header=None)\n",
    "FixedIntel = pd.read_csv(\"./Data/intel_stock_data_1985-2023.csv\", skiprows=3, names=column_names, header=None)\n",
    "\n",
    "FixedAMD['datetime'] = pd.to_datetime(FixedAMD['datetime'])\n",
    "FixedIntel['datetime'] = pd.to_datetime(FixedIntel['datetime'])\n",
    "\n",
    "Winsorized_Intel = FixedIntel.copy()\n",
    "Winsorized_AMD = FixedAMD.copy()\n",
    "\n",
    "# Columns to Winsorize\n",
    "columns_to_winsorize = ['adj_close', 'close', 'high', 'low', 'open', 'volume']\n",
    "\n",
    "# Apply Winsorization (Cap at 95th percentile for each column)\n",
    "for column in columns_to_winsorize:\n",
    "    upper_threshold = FixedIntel[column].quantile(0.95)  # Calculate the 95th percentile for the column\n",
    "    Winsorized_Intel[column] = FixedIntel[column].clip(upper=upper_threshold)  # Cap values above the 95th percentile\n",
    "\n",
    "# Apply Winsorization (Cap at 85th percentile for each column)\n",
    "for column in columns_to_winsorize:\n",
    "    upper_threshold = FixedAMD[column].quantile(0.85)  # Calculate the 95th percentile for the column\n",
    "    Winsorized_AMD[column] = FixedAMD[column].clip(upper=upper_threshold)  # Cap values above the 95th percentile"
   ]
  },
  {
   "cell_type": "code",
   "execution_count": 11,
   "metadata": {},
   "outputs": [],
   "source": [
    "# Now we cleaned the data we save it to a CSV.\n",
    "\n",
    "Path_AMD = \"./Data/AMD_CleanedDaily.csv\"\n",
    "Path_Intel = \"./Data/Intel_CleanedDaily.csv\"\n",
    "\n",
    "FixedIntel.to_csv(Path_AMD, index=False)\n",
    "FixedIntel.to_csv(Path_Intel, index=False)"
   ]
  }
 ],
 "metadata": {
  "kernelspec": {
   "display_name": "StockPrices",
   "language": "python",
   "name": "python3"
  },
  "language_info": {
   "codemirror_mode": {
    "name": "ipython",
    "version": 3
   },
   "file_extension": ".py",
   "mimetype": "text/x-python",
   "name": "python",
   "nbconvert_exporter": "python",
   "pygments_lexer": "ipython3",
   "version": "3.12.1"
  }
 },
 "nbformat": 4,
 "nbformat_minor": 2
}
