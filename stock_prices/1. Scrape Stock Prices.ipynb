{
 "cells": [
  {
   "cell_type": "markdown",
   "metadata": {},
   "source": [
    "## Stock prices - Scraping\n",
    "\n",
    "Done by Wieland Vandebotermet\n",
    "\n",
    "### Who?"
   ]
  },
  {
   "cell_type": "markdown",
   "metadata": {},
   "source": [
    "First We decide wich 2 stocks to scrape wich in my case are:\n",
    "\n",
    "#### Intel\n",
    "#### AMD\n",
    "\n",
    "Why Intel and AMD?(Thanks to ChatGPT)\n",
    "\n",
    "    Industry Competition: Intel and AMD are fierce competitors in the CPU and GPU markets. Intel was the dominant player for decades, but AMD has seen a resurgence in recent years with its Ryzen and EPYC processors, which have gained popularity in both consumer and enterprise segments.\n",
    "\n",
    "    Technology Cycles: Both companies’ stocks are influenced by the release of new processor architectures, changes in manufacturing technology, and shifts in demand for computing power. Analyzing them gives insights into how the market reacts to innovation, production challenges, and market share changes.\n",
    "\n",
    "    Market Dynamics: Recently, AMD has gained momentum due to a more aggressive roadmap, while Intel has faced challenges in advancing its manufacturing processes. This competition drives volatility and trends, making them perfect candidates for predictive modeling.\n",
    "\n",
    "### How?\n",
    "\n",
    "Yahoo Finance (via yfinance Python package)(Thanks to ChatGTP)\n",
    "\n",
    "    Advantages: Yahoo Finance offers a straightforward API via the yfinance library, which makes it easy to download extensive historical data.\n",
    "    Steps:\n",
    "        Use yfinance to download daily, weekly, or monthly stock prices (open, close, high, low, volume) for both Intel and AMD.\n",
    "        Specify the time range you need, which can go as far back as the early 1980s."
   ]
  },
  {
   "cell_type": "markdown",
   "metadata": {},
   "source": [
    "Now we we will begin to scrape the need data, we do:"
   ]
  },
  {
   "cell_type": "code",
   "execution_count": null,
   "metadata": {},
   "outputs": [
    {
     "name": "stderr",
     "output_type": "stream",
     "text": [
      "[*********************100%***********************]  1 of 1 completed\n",
      "[*********************100%***********************]  1 of 1 completed\n"
     ]
    }
   ],
   "source": [
    "import yfinance as yf\n",
    "import os\n",
    "\n",
    "# Download data for Intel (INTC) and AMD\n",
    "intel_data = yf.download(\"INTC\", start=\"1985-01-01\", end=\"2023-10-01\")\n",
    "amd_data = yf.download(\"AMD\", start=\"1985-01-01\", end=\"2023-10-01\")\n",
    "\n",
    "\n",
    "folder_path = \"./Data/\"\n",
    "if not os.path.exists(folder_path):\n",
    "    os.makedirs(folder_path)\n",
    "\n",
    "# Save to CSV for backup and easy access\n",
    "intel_data.to_csv(\"./Data/intel_stock_data_1985-2023.csv\")\n",
    "amd_data.to_csv(\"./Data/amd_stock_data_1985-2023.csv\")"
   ]
  }
 ],
 "metadata": {
  "kernelspec": {
   "display_name": "StockPrices",
   "language": "python",
   "name": "python3"
  },
  "language_info": {
   "codemirror_mode": {
    "name": "ipython",
    "version": 3
   },
   "file_extension": ".py",
   "mimetype": "text/x-python",
   "name": "python",
   "nbconvert_exporter": "python",
   "pygments_lexer": "ipython3",
   "version": "3.12.1"
  }
 },
 "nbformat": 4,
 "nbformat_minor": 2
}
