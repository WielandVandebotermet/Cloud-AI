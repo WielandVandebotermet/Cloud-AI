{
 "cells": [
  {
   "cell_type": "markdown",
   "metadata": {},
   "source": [
    "# Pycaret - Comparing Models\n",
    "In this notebook we will use pycaret to compare models and consequently use the best one. We will also use the second best one, KNN, as our own model and the third best, XGboost, will be used within AWS."
   ]
  },
  {
   "cell_type": "markdown",
   "metadata": {},
   "source": [
    "## Imports\n",
    "First we have to install pycaret in our sagemaker environment. Afterwards we will also imports everything we need to train a pycaret-model."
   ]
  },
  {
   "cell_type": "code",
   "execution_count": 1,
   "metadata": {},
   "outputs": [
    {
     "name": "stdout",
     "output_type": "stream",
     "text": [
      "Channels:\n",
      " - conda-forge\n",
      " - nvidia\n",
      " - pytorch\n",
      "Platform: linux-64\n",
      "Collecting package metadata (repodata.json): ...working... done\n",
      "Solving environment: ...working... done\n",
      "\n",
      "# All requested packages already installed.\n",
      "\n"
     ]
    }
   ],
   "source": [
    "!conda install pycaret --yes --quiet"
   ]
  },
  {
   "cell_type": "code",
   "execution_count": 2,
   "metadata": {},
   "outputs": [],
   "source": [
    "import pandas as pd\n",
    "from pycaret.classification import *"
   ]
  },
  {
   "cell_type": "markdown",
   "metadata": {},
   "source": [
    "## Load data\n",
    "We will load the data from our training-datasets to use for the training of the model"
   ]
  },
  {
   "cell_type": "code",
   "execution_count": 3,
   "metadata": {},
   "outputs": [
    {
     "data": {
      "text/html": [
       "<div>\n",
       "<style scoped>\n",
       "    .dataframe tbody tr th:only-of-type {\n",
       "        vertical-align: middle;\n",
       "    }\n",
       "\n",
       "    .dataframe tbody tr th {\n",
       "        vertical-align: top;\n",
       "    }\n",
       "\n",
       "    .dataframe thead th {\n",
       "        text-align: right;\n",
       "    }\n",
       "</style>\n",
       "<table border=\"1\" class=\"dataframe\">\n",
       "  <thead>\n",
       "    <tr style=\"text-align: right;\">\n",
       "      <th></th>\n",
       "      <th>survived</th>\n",
       "      <th>pclass</th>\n",
       "      <th>sex</th>\n",
       "      <th>age</th>\n",
       "      <th>sibsp</th>\n",
       "      <th>parch</th>\n",
       "      <th>fare</th>\n",
       "      <th>embarked</th>\n",
       "    </tr>\n",
       "  </thead>\n",
       "  <tbody>\n",
       "    <tr>\n",
       "      <th>0</th>\n",
       "      <td>0</td>\n",
       "      <td>3</td>\n",
       "      <td>1</td>\n",
       "      <td>43.0</td>\n",
       "      <td>0</td>\n",
       "      <td>0</td>\n",
       "      <td>6.767768</td>\n",
       "      <td>2</td>\n",
       "    </tr>\n",
       "    <tr>\n",
       "      <th>1</th>\n",
       "      <td>0</td>\n",
       "      <td>3</td>\n",
       "      <td>0</td>\n",
       "      <td>47.0</td>\n",
       "      <td>1</td>\n",
       "      <td>0</td>\n",
       "      <td>13.225974</td>\n",
       "      <td>2</td>\n",
       "    </tr>\n",
       "    <tr>\n",
       "      <th>2</th>\n",
       "      <td>0</td>\n",
       "      <td>3</td>\n",
       "      <td>0</td>\n",
       "      <td>30.0</td>\n",
       "      <td>1</td>\n",
       "      <td>1</td>\n",
       "      <td>11.829304</td>\n",
       "      <td>0</td>\n",
       "    </tr>\n",
       "    <tr>\n",
       "      <th>3</th>\n",
       "      <td>0</td>\n",
       "      <td>3</td>\n",
       "      <td>1</td>\n",
       "      <td>9.0</td>\n",
       "      <td>4</td>\n",
       "      <td>1</td>\n",
       "      <td>32.998745</td>\n",
       "      <td>1</td>\n",
       "    </tr>\n",
       "    <tr>\n",
       "      <th>4</th>\n",
       "      <td>0</td>\n",
       "      <td>3</td>\n",
       "      <td>0</td>\n",
       "      <td>34.0</td>\n",
       "      <td>0</td>\n",
       "      <td>0</td>\n",
       "      <td>2.023009</td>\n",
       "      <td>2</td>\n",
       "    </tr>\n",
       "  </tbody>\n",
       "</table>\n",
       "</div>"
      ],
      "text/plain": [
       "   survived  pclass  sex   age  sibsp  parch       fare  embarked\n",
       "0         0       3    1  43.0      0      0   6.767768         2\n",
       "1         0       3    0  47.0      1      0  13.225974         2\n",
       "2         0       3    0  30.0      1      1  11.829304         0\n",
       "3         0       3    1   9.0      4      1  32.998745         1\n",
       "4         0       3    0  34.0      0      0   2.023009         2"
      ]
     },
     "execution_count": 3,
     "metadata": {},
     "output_type": "execute_result"
    }
   ],
   "source": [
    "x_train = pd.read_csv('x_train.csv')\n",
    "y_train = pd.read_csv('y_train.csv')\n",
    "\n",
    "data = pd.concat([y_train, x_train], axis=1)\n",
    "\n",
    "data.head()"
   ]
  },
  {
   "cell_type": "markdown",
   "metadata": {},
   "source": [
    "## Setup\n",
    "We use the setup-method to set the data up for usage within the compare_models-method we use afterwards."
   ]
  },
  {
   "cell_type": "code",
   "execution_count": 4,
   "metadata": {},
   "outputs": [
    {
     "name": "stdout",
     "output_type": "stream",
     "text": [
      "Warning: No categorical columns found. Calling 'transform' will only return input data.\n"
     ]
    },
    {
     "data": {
      "text/html": [
       "<style type=\"text/css\">\n",
       "#T_1160c_row8_col1 {\n",
       "  background-color: lightgreen;\n",
       "}\n",
       "</style>\n",
       "<table id=\"T_1160c\">\n",
       "  <thead>\n",
       "    <tr>\n",
       "      <th class=\"blank level0\" >&nbsp;</th>\n",
       "      <th id=\"T_1160c_level0_col0\" class=\"col_heading level0 col0\" >Description</th>\n",
       "      <th id=\"T_1160c_level0_col1\" class=\"col_heading level0 col1\" >Value</th>\n",
       "    </tr>\n",
       "  </thead>\n",
       "  <tbody>\n",
       "    <tr>\n",
       "      <th id=\"T_1160c_level0_row0\" class=\"row_heading level0 row0\" >0</th>\n",
       "      <td id=\"T_1160c_row0_col0\" class=\"data row0 col0\" >Session id</td>\n",
       "      <td id=\"T_1160c_row0_col1\" class=\"data row0 col1\" >8396</td>\n",
       "    </tr>\n",
       "    <tr>\n",
       "      <th id=\"T_1160c_level0_row1\" class=\"row_heading level0 row1\" >1</th>\n",
       "      <td id=\"T_1160c_row1_col0\" class=\"data row1 col0\" >Target</td>\n",
       "      <td id=\"T_1160c_row1_col1\" class=\"data row1 col1\" >survived</td>\n",
       "    </tr>\n",
       "    <tr>\n",
       "      <th id=\"T_1160c_level0_row2\" class=\"row_heading level0 row2\" >2</th>\n",
       "      <td id=\"T_1160c_row2_col0\" class=\"data row2 col0\" >Target type</td>\n",
       "      <td id=\"T_1160c_row2_col1\" class=\"data row2 col1\" >Binary</td>\n",
       "    </tr>\n",
       "    <tr>\n",
       "      <th id=\"T_1160c_level0_row3\" class=\"row_heading level0 row3\" >3</th>\n",
       "      <td id=\"T_1160c_row3_col0\" class=\"data row3 col0\" >Original data shape</td>\n",
       "      <td id=\"T_1160c_row3_col1\" class=\"data row3 col1\" >(476982, 8)</td>\n",
       "    </tr>\n",
       "    <tr>\n",
       "      <th id=\"T_1160c_level0_row4\" class=\"row_heading level0 row4\" >4</th>\n",
       "      <td id=\"T_1160c_row4_col0\" class=\"data row4 col0\" >Transformed data shape</td>\n",
       "      <td id=\"T_1160c_row4_col1\" class=\"data row4 col1\" >(476982, 18)</td>\n",
       "    </tr>\n",
       "    <tr>\n",
       "      <th id=\"T_1160c_level0_row5\" class=\"row_heading level0 row5\" >5</th>\n",
       "      <td id=\"T_1160c_row5_col0\" class=\"data row5 col0\" >Transformed train set shape</td>\n",
       "      <td id=\"T_1160c_row5_col1\" class=\"data row5 col1\" >(333887, 18)</td>\n",
       "    </tr>\n",
       "    <tr>\n",
       "      <th id=\"T_1160c_level0_row6\" class=\"row_heading level0 row6\" >6</th>\n",
       "      <td id=\"T_1160c_row6_col0\" class=\"data row6 col0\" >Transformed test set shape</td>\n",
       "      <td id=\"T_1160c_row6_col1\" class=\"data row6 col1\" >(143095, 18)</td>\n",
       "    </tr>\n",
       "    <tr>\n",
       "      <th id=\"T_1160c_level0_row7\" class=\"row_heading level0 row7\" >7</th>\n",
       "      <td id=\"T_1160c_row7_col0\" class=\"data row7 col0\" >Categorical features</td>\n",
       "      <td id=\"T_1160c_row7_col1\" class=\"data row7 col1\" >7</td>\n",
       "    </tr>\n",
       "    <tr>\n",
       "      <th id=\"T_1160c_level0_row8\" class=\"row_heading level0 row8\" >8</th>\n",
       "      <td id=\"T_1160c_row8_col0\" class=\"data row8 col0\" >Preprocess</td>\n",
       "      <td id=\"T_1160c_row8_col1\" class=\"data row8 col1\" >True</td>\n",
       "    </tr>\n",
       "    <tr>\n",
       "      <th id=\"T_1160c_level0_row9\" class=\"row_heading level0 row9\" >9</th>\n",
       "      <td id=\"T_1160c_row9_col0\" class=\"data row9 col0\" >Imputation type</td>\n",
       "      <td id=\"T_1160c_row9_col1\" class=\"data row9 col1\" >simple</td>\n",
       "    </tr>\n",
       "    <tr>\n",
       "      <th id=\"T_1160c_level0_row10\" class=\"row_heading level0 row10\" >10</th>\n",
       "      <td id=\"T_1160c_row10_col0\" class=\"data row10 col0\" >Numeric imputation</td>\n",
       "      <td id=\"T_1160c_row10_col1\" class=\"data row10 col1\" >mean</td>\n",
       "    </tr>\n",
       "    <tr>\n",
       "      <th id=\"T_1160c_level0_row11\" class=\"row_heading level0 row11\" >11</th>\n",
       "      <td id=\"T_1160c_row11_col0\" class=\"data row11 col0\" >Categorical imputation</td>\n",
       "      <td id=\"T_1160c_row11_col1\" class=\"data row11 col1\" >mode</td>\n",
       "    </tr>\n",
       "    <tr>\n",
       "      <th id=\"T_1160c_level0_row12\" class=\"row_heading level0 row12\" >12</th>\n",
       "      <td id=\"T_1160c_row12_col0\" class=\"data row12 col0\" >Maximum one-hot encoding</td>\n",
       "      <td id=\"T_1160c_row12_col1\" class=\"data row12 col1\" >25</td>\n",
       "    </tr>\n",
       "    <tr>\n",
       "      <th id=\"T_1160c_level0_row13\" class=\"row_heading level0 row13\" >13</th>\n",
       "      <td id=\"T_1160c_row13_col0\" class=\"data row13 col0\" >Encoding method</td>\n",
       "      <td id=\"T_1160c_row13_col1\" class=\"data row13 col1\" >None</td>\n",
       "    </tr>\n",
       "    <tr>\n",
       "      <th id=\"T_1160c_level0_row14\" class=\"row_heading level0 row14\" >14</th>\n",
       "      <td id=\"T_1160c_row14_col0\" class=\"data row14 col0\" >Fold Generator</td>\n",
       "      <td id=\"T_1160c_row14_col1\" class=\"data row14 col1\" >StratifiedKFold</td>\n",
       "    </tr>\n",
       "    <tr>\n",
       "      <th id=\"T_1160c_level0_row15\" class=\"row_heading level0 row15\" >15</th>\n",
       "      <td id=\"T_1160c_row15_col0\" class=\"data row15 col0\" >Fold Number</td>\n",
       "      <td id=\"T_1160c_row15_col1\" class=\"data row15 col1\" >10</td>\n",
       "    </tr>\n",
       "    <tr>\n",
       "      <th id=\"T_1160c_level0_row16\" class=\"row_heading level0 row16\" >16</th>\n",
       "      <td id=\"T_1160c_row16_col0\" class=\"data row16 col0\" >CPU Jobs</td>\n",
       "      <td id=\"T_1160c_row16_col1\" class=\"data row16 col1\" >-1</td>\n",
       "    </tr>\n",
       "    <tr>\n",
       "      <th id=\"T_1160c_level0_row17\" class=\"row_heading level0 row17\" >17</th>\n",
       "      <td id=\"T_1160c_row17_col0\" class=\"data row17 col0\" >Use GPU</td>\n",
       "      <td id=\"T_1160c_row17_col1\" class=\"data row17 col1\" >False</td>\n",
       "    </tr>\n",
       "    <tr>\n",
       "      <th id=\"T_1160c_level0_row18\" class=\"row_heading level0 row18\" >18</th>\n",
       "      <td id=\"T_1160c_row18_col0\" class=\"data row18 col0\" >Log Experiment</td>\n",
       "      <td id=\"T_1160c_row18_col1\" class=\"data row18 col1\" >False</td>\n",
       "    </tr>\n",
       "    <tr>\n",
       "      <th id=\"T_1160c_level0_row19\" class=\"row_heading level0 row19\" >19</th>\n",
       "      <td id=\"T_1160c_row19_col0\" class=\"data row19 col0\" >Experiment Name</td>\n",
       "      <td id=\"T_1160c_row19_col1\" class=\"data row19 col1\" >clf-default-name</td>\n",
       "    </tr>\n",
       "    <tr>\n",
       "      <th id=\"T_1160c_level0_row20\" class=\"row_heading level0 row20\" >20</th>\n",
       "      <td id=\"T_1160c_row20_col0\" class=\"data row20 col0\" >USI</td>\n",
       "      <td id=\"T_1160c_row20_col1\" class=\"data row20 col1\" >873e</td>\n",
       "    </tr>\n",
       "  </tbody>\n",
       "</table>\n"
      ],
      "text/plain": [
       "<pandas.io.formats.style.Styler at 0x7f08c53555d0>"
      ]
     },
     "metadata": {},
     "output_type": "display_data"
    }
   ],
   "source": [
    "cat_features = [\"pclass\", \"sex\", \"age\", \"sibsp\", \"parch\", \"fare\", \"embarked\"]\n",
    "s = setup(data, target='survived', categorical_features=cat_features)"
   ]
  },
  {
   "cell_type": "markdown",
   "metadata": {},
   "source": [
    "## Compare models\n",
    "We compare the models that pycaret allows us to compare, note that we will be make our other two based on the results of this evaluation as well."
   ]
  },
  {
   "cell_type": "code",
   "execution_count": 5,
   "metadata": {},
   "outputs": [
    {
     "data": {
      "text/html": [],
      "text/plain": [
       "<IPython.core.display.HTML object>"
      ]
     },
     "metadata": {},
     "output_type": "display_data"
    },
    {
     "data": {
      "text/html": [
       "<style type=\"text/css\">\n",
       "#T_0c1d2 th {\n",
       "  text-align: left;\n",
       "}\n",
       "#T_0c1d2_row0_col0, #T_0c1d2_row0_col2, #T_0c1d2_row0_col3, #T_0c1d2_row1_col0, #T_0c1d2_row1_col1, #T_0c1d2_row1_col2, #T_0c1d2_row1_col3, #T_0c1d2_row1_col4, #T_0c1d2_row1_col5, #T_0c1d2_row1_col6, #T_0c1d2_row1_col7, #T_0c1d2_row2_col0, #T_0c1d2_row2_col1, #T_0c1d2_row2_col3, #T_0c1d2_row2_col4, #T_0c1d2_row2_col5, #T_0c1d2_row2_col6, #T_0c1d2_row2_col7, #T_0c1d2_row3_col0, #T_0c1d2_row3_col1, #T_0c1d2_row3_col2, #T_0c1d2_row3_col3, #T_0c1d2_row3_col4, #T_0c1d2_row3_col5, #T_0c1d2_row3_col6, #T_0c1d2_row3_col7, #T_0c1d2_row4_col0, #T_0c1d2_row4_col1, #T_0c1d2_row4_col2, #T_0c1d2_row4_col3, #T_0c1d2_row4_col4, #T_0c1d2_row4_col5, #T_0c1d2_row4_col6, #T_0c1d2_row4_col7, #T_0c1d2_row5_col0, #T_0c1d2_row5_col1, #T_0c1d2_row5_col2, #T_0c1d2_row5_col3, #T_0c1d2_row5_col4, #T_0c1d2_row5_col5, #T_0c1d2_row5_col6, #T_0c1d2_row5_col7, #T_0c1d2_row6_col0, #T_0c1d2_row6_col1, #T_0c1d2_row6_col2, #T_0c1d2_row6_col3, #T_0c1d2_row6_col4, #T_0c1d2_row6_col5, #T_0c1d2_row6_col6, #T_0c1d2_row6_col7, #T_0c1d2_row7_col0, #T_0c1d2_row7_col1, #T_0c1d2_row7_col2, #T_0c1d2_row7_col3, #T_0c1d2_row7_col4, #T_0c1d2_row7_col5, #T_0c1d2_row7_col6, #T_0c1d2_row7_col7, #T_0c1d2_row8_col0, #T_0c1d2_row8_col1, #T_0c1d2_row8_col2, #T_0c1d2_row8_col3, #T_0c1d2_row8_col4, #T_0c1d2_row8_col5, #T_0c1d2_row8_col6, #T_0c1d2_row8_col7, #T_0c1d2_row9_col0, #T_0c1d2_row9_col1, #T_0c1d2_row9_col2, #T_0c1d2_row9_col3, #T_0c1d2_row9_col4, #T_0c1d2_row9_col5, #T_0c1d2_row9_col6, #T_0c1d2_row9_col7, #T_0c1d2_row10_col0, #T_0c1d2_row10_col1, #T_0c1d2_row10_col2, #T_0c1d2_row10_col3, #T_0c1d2_row10_col4, #T_0c1d2_row10_col5, #T_0c1d2_row10_col6, #T_0c1d2_row10_col7, #T_0c1d2_row11_col0, #T_0c1d2_row11_col1, #T_0c1d2_row11_col2, #T_0c1d2_row11_col3, #T_0c1d2_row11_col4, #T_0c1d2_row11_col5, #T_0c1d2_row11_col6, #T_0c1d2_row11_col7, #T_0c1d2_row12_col0, #T_0c1d2_row12_col1, #T_0c1d2_row12_col2, #T_0c1d2_row12_col3, #T_0c1d2_row12_col4, #T_0c1d2_row12_col5, #T_0c1d2_row12_col6, #T_0c1d2_row12_col7, #T_0c1d2_row13_col0, #T_0c1d2_row13_col1, #T_0c1d2_row13_col2, #T_0c1d2_row13_col4, #T_0c1d2_row13_col5, #T_0c1d2_row13_col6, #T_0c1d2_row13_col7 {\n",
       "  text-align: left;\n",
       "}\n",
       "#T_0c1d2_row0_col1, #T_0c1d2_row0_col4, #T_0c1d2_row0_col5, #T_0c1d2_row0_col6, #T_0c1d2_row0_col7, #T_0c1d2_row2_col2, #T_0c1d2_row13_col3 {\n",
       "  text-align: left;\n",
       "  background-color: yellow;\n",
       "}\n",
       "#T_0c1d2_row0_col8, #T_0c1d2_row1_col8, #T_0c1d2_row2_col8, #T_0c1d2_row3_col8, #T_0c1d2_row4_col8, #T_0c1d2_row5_col8, #T_0c1d2_row6_col8, #T_0c1d2_row7_col8, #T_0c1d2_row8_col8, #T_0c1d2_row9_col8, #T_0c1d2_row10_col8, #T_0c1d2_row11_col8, #T_0c1d2_row13_col8 {\n",
       "  text-align: left;\n",
       "  background-color: lightgrey;\n",
       "}\n",
       "#T_0c1d2_row12_col8 {\n",
       "  text-align: left;\n",
       "  background-color: yellow;\n",
       "  background-color: lightgrey;\n",
       "}\n",
       "</style>\n",
       "<table id=\"T_0c1d2\">\n",
       "  <thead>\n",
       "    <tr>\n",
       "      <th class=\"blank level0\" >&nbsp;</th>\n",
       "      <th id=\"T_0c1d2_level0_col0\" class=\"col_heading level0 col0\" >Model</th>\n",
       "      <th id=\"T_0c1d2_level0_col1\" class=\"col_heading level0 col1\" >Accuracy</th>\n",
       "      <th id=\"T_0c1d2_level0_col2\" class=\"col_heading level0 col2\" >AUC</th>\n",
       "      <th id=\"T_0c1d2_level0_col3\" class=\"col_heading level0 col3\" >Recall</th>\n",
       "      <th id=\"T_0c1d2_level0_col4\" class=\"col_heading level0 col4\" >Prec.</th>\n",
       "      <th id=\"T_0c1d2_level0_col5\" class=\"col_heading level0 col5\" >F1</th>\n",
       "      <th id=\"T_0c1d2_level0_col6\" class=\"col_heading level0 col6\" >Kappa</th>\n",
       "      <th id=\"T_0c1d2_level0_col7\" class=\"col_heading level0 col7\" >MCC</th>\n",
       "      <th id=\"T_0c1d2_level0_col8\" class=\"col_heading level0 col8\" >TT (Sec)</th>\n",
       "    </tr>\n",
       "  </thead>\n",
       "  <tbody>\n",
       "    <tr>\n",
       "      <th id=\"T_0c1d2_level0_row0\" class=\"row_heading level0 row0\" >lightgbm</th>\n",
       "      <td id=\"T_0c1d2_row0_col0\" class=\"data row0 col0\" >Light Gradient Boosting Machine</td>\n",
       "      <td id=\"T_0c1d2_row0_col1\" class=\"data row0 col1\" >0.8806</td>\n",
       "      <td id=\"T_0c1d2_row0_col2\" class=\"data row0 col2\" >0.0000</td>\n",
       "      <td id=\"T_0c1d2_row0_col3\" class=\"data row0 col3\" >0.7666</td>\n",
       "      <td id=\"T_0c1d2_row0_col4\" class=\"data row0 col4\" >0.8455</td>\n",
       "      <td id=\"T_0c1d2_row0_col5\" class=\"data row0 col5\" >0.8041</td>\n",
       "      <td id=\"T_0c1d2_row0_col6\" class=\"data row0 col6\" >0.7186</td>\n",
       "      <td id=\"T_0c1d2_row0_col7\" class=\"data row0 col7\" >0.7204</td>\n",
       "      <td id=\"T_0c1d2_row0_col8\" class=\"data row0 col8\" >3.3320</td>\n",
       "    </tr>\n",
       "    <tr>\n",
       "      <th id=\"T_0c1d2_level0_row1\" class=\"row_heading level0 row1\" >knn</th>\n",
       "      <td id=\"T_0c1d2_row1_col0\" class=\"data row1 col0\" >K Neighbors Classifier</td>\n",
       "      <td id=\"T_0c1d2_row1_col1\" class=\"data row1 col1\" >0.8612</td>\n",
       "      <td id=\"T_0c1d2_row1_col2\" class=\"data row1 col2\" >0.0000</td>\n",
       "      <td id=\"T_0c1d2_row1_col3\" class=\"data row1 col3\" >0.7452</td>\n",
       "      <td id=\"T_0c1d2_row1_col4\" class=\"data row1 col4\" >0.8061</td>\n",
       "      <td id=\"T_0c1d2_row1_col5\" class=\"data row1 col5\" >0.7744</td>\n",
       "      <td id=\"T_0c1d2_row1_col6\" class=\"data row1 col6\" >0.6744</td>\n",
       "      <td id=\"T_0c1d2_row1_col7\" class=\"data row1 col7\" >0.6755</td>\n",
       "      <td id=\"T_0c1d2_row1_col8\" class=\"data row1 col8\" >25.2790</td>\n",
       "    </tr>\n",
       "    <tr>\n",
       "      <th id=\"T_0c1d2_level0_row2\" class=\"row_heading level0 row2\" >gbc</th>\n",
       "      <td id=\"T_0c1d2_row2_col0\" class=\"data row2 col0\" >Gradient Boosting Classifier</td>\n",
       "      <td id=\"T_0c1d2_row2_col1\" class=\"data row2 col1\" >0.8506</td>\n",
       "      <td id=\"T_0c1d2_row2_col2\" class=\"data row2 col2\" >0.9042</td>\n",
       "      <td id=\"T_0c1d2_row2_col3\" class=\"data row2 col3\" >0.6999</td>\n",
       "      <td id=\"T_0c1d2_row2_col4\" class=\"data row2 col4\" >0.8070</td>\n",
       "      <td id=\"T_0c1d2_row2_col5\" class=\"data row2 col5\" >0.7496</td>\n",
       "      <td id=\"T_0c1d2_row2_col6\" class=\"data row2 col6\" >0.6439</td>\n",
       "      <td id=\"T_0c1d2_row2_col7\" class=\"data row2 col7\" >0.6472</td>\n",
       "      <td id=\"T_0c1d2_row2_col8\" class=\"data row2 col8\" >16.4300</td>\n",
       "    </tr>\n",
       "    <tr>\n",
       "      <th id=\"T_0c1d2_level0_row3\" class=\"row_heading level0 row3\" >rf</th>\n",
       "      <td id=\"T_0c1d2_row3_col0\" class=\"data row3 col0\" >Random Forest Classifier</td>\n",
       "      <td id=\"T_0c1d2_row3_col1\" class=\"data row3 col1\" >0.8435</td>\n",
       "      <td id=\"T_0c1d2_row3_col2\" class=\"data row3 col2\" >0.0000</td>\n",
       "      <td id=\"T_0c1d2_row3_col3\" class=\"data row3 col3\" >0.7344</td>\n",
       "      <td id=\"T_0c1d2_row3_col4\" class=\"data row3 col4\" >0.7663</td>\n",
       "      <td id=\"T_0c1d2_row3_col5\" class=\"data row3 col5\" >0.7500</td>\n",
       "      <td id=\"T_0c1d2_row3_col6\" class=\"data row3 col6\" >0.6362</td>\n",
       "      <td id=\"T_0c1d2_row3_col7\" class=\"data row3 col7\" >0.6365</td>\n",
       "      <td id=\"T_0c1d2_row3_col8\" class=\"data row3 col8\" >24.8750</td>\n",
       "    </tr>\n",
       "    <tr>\n",
       "      <th id=\"T_0c1d2_level0_row4\" class=\"row_heading level0 row4\" >et</th>\n",
       "      <td id=\"T_0c1d2_row4_col0\" class=\"data row4 col0\" >Extra Trees Classifier</td>\n",
       "      <td id=\"T_0c1d2_row4_col1\" class=\"data row4 col1\" >0.8408</td>\n",
       "      <td id=\"T_0c1d2_row4_col2\" class=\"data row4 col2\" >0.0000</td>\n",
       "      <td id=\"T_0c1d2_row4_col3\" class=\"data row4 col3\" >0.7303</td>\n",
       "      <td id=\"T_0c1d2_row4_col4\" class=\"data row4 col4\" >0.7618</td>\n",
       "      <td id=\"T_0c1d2_row4_col5\" class=\"data row4 col5\" >0.7457</td>\n",
       "      <td id=\"T_0c1d2_row4_col6\" class=\"data row4 col6\" >0.6299</td>\n",
       "      <td id=\"T_0c1d2_row4_col7\" class=\"data row4 col7\" >0.6302</td>\n",
       "      <td id=\"T_0c1d2_row4_col8\" class=\"data row4 col8\" >14.9300</td>\n",
       "    </tr>\n",
       "    <tr>\n",
       "      <th id=\"T_0c1d2_level0_row5\" class=\"row_heading level0 row5\" >dt</th>\n",
       "      <td id=\"T_0c1d2_row5_col0\" class=\"data row5 col0\" >Decision Tree Classifier</td>\n",
       "      <td id=\"T_0c1d2_row5_col1\" class=\"data row5 col1\" >0.8311</td>\n",
       "      <td id=\"T_0c1d2_row5_col2\" class=\"data row5 col2\" >0.0000</td>\n",
       "      <td id=\"T_0c1d2_row5_col3\" class=\"data row5 col3\" >0.7248</td>\n",
       "      <td id=\"T_0c1d2_row5_col4\" class=\"data row5 col4\" >0.7412</td>\n",
       "      <td id=\"T_0c1d2_row5_col5\" class=\"data row5 col5\" >0.7329</td>\n",
       "      <td id=\"T_0c1d2_row5_col6\" class=\"data row5 col6\" >0.6094</td>\n",
       "      <td id=\"T_0c1d2_row5_col7\" class=\"data row5 col7\" >0.6095</td>\n",
       "      <td id=\"T_0c1d2_row5_col8\" class=\"data row5 col8\" >1.5350</td>\n",
       "    </tr>\n",
       "    <tr>\n",
       "      <th id=\"T_0c1d2_level0_row6\" class=\"row_heading level0 row6\" >lr</th>\n",
       "      <td id=\"T_0c1d2_row6_col0\" class=\"data row6 col0\" >Logistic Regression</td>\n",
       "      <td id=\"T_0c1d2_row6_col1\" class=\"data row6 col1\" >0.8264</td>\n",
       "      <td id=\"T_0c1d2_row6_col2\" class=\"data row6 col2\" >0.8531</td>\n",
       "      <td id=\"T_0c1d2_row6_col3\" class=\"data row6 col3\" >0.6882</td>\n",
       "      <td id=\"T_0c1d2_row6_col4\" class=\"data row6 col4\" >0.7483</td>\n",
       "      <td id=\"T_0c1d2_row6_col5\" class=\"data row6 col5\" >0.7170</td>\n",
       "      <td id=\"T_0c1d2_row6_col6\" class=\"data row6 col6\" >0.5921</td>\n",
       "      <td id=\"T_0c1d2_row6_col7\" class=\"data row6 col7\" >0.5932</td>\n",
       "      <td id=\"T_0c1d2_row6_col8\" class=\"data row6 col8\" >3.5070</td>\n",
       "    </tr>\n",
       "    <tr>\n",
       "      <th id=\"T_0c1d2_level0_row7\" class=\"row_heading level0 row7\" >ada</th>\n",
       "      <td id=\"T_0c1d2_row7_col0\" class=\"data row7 col0\" >Ada Boost Classifier</td>\n",
       "      <td id=\"T_0c1d2_row7_col1\" class=\"data row7 col1\" >0.8216</td>\n",
       "      <td id=\"T_0c1d2_row7_col2\" class=\"data row7 col2\" >0.8656</td>\n",
       "      <td id=\"T_0c1d2_row7_col3\" class=\"data row7 col3\" >0.6933</td>\n",
       "      <td id=\"T_0c1d2_row7_col4\" class=\"data row7 col4\" >0.7338</td>\n",
       "      <td id=\"T_0c1d2_row7_col5\" class=\"data row7 col5\" >0.7130</td>\n",
       "      <td id=\"T_0c1d2_row7_col6\" class=\"data row7 col6\" >0.5837</td>\n",
       "      <td id=\"T_0c1d2_row7_col7\" class=\"data row7 col7\" >0.5842</td>\n",
       "      <td id=\"T_0c1d2_row7_col8\" class=\"data row7 col8\" >4.9930</td>\n",
       "    </tr>\n",
       "    <tr>\n",
       "      <th id=\"T_0c1d2_level0_row8\" class=\"row_heading level0 row8\" >lda</th>\n",
       "      <td id=\"T_0c1d2_row8_col0\" class=\"data row8 col0\" >Linear Discriminant Analysis</td>\n",
       "      <td id=\"T_0c1d2_row8_col1\" class=\"data row8 col1\" >0.8211</td>\n",
       "      <td id=\"T_0c1d2_row8_col2\" class=\"data row8 col2\" >0.8516</td>\n",
       "      <td id=\"T_0c1d2_row8_col3\" class=\"data row8 col3\" >0.6977</td>\n",
       "      <td id=\"T_0c1d2_row8_col4\" class=\"data row8 col4\" >0.7305</td>\n",
       "      <td id=\"T_0c1d2_row8_col5\" class=\"data row8 col5\" >0.7137</td>\n",
       "      <td id=\"T_0c1d2_row8_col6\" class=\"data row8 col6\" >0.5837</td>\n",
       "      <td id=\"T_0c1d2_row8_col7\" class=\"data row8 col7\" >0.5841</td>\n",
       "      <td id=\"T_0c1d2_row8_col8\" class=\"data row8 col8\" >0.9810</td>\n",
       "    </tr>\n",
       "    <tr>\n",
       "      <th id=\"T_0c1d2_level0_row9\" class=\"row_heading level0 row9\" >ridge</th>\n",
       "      <td id=\"T_0c1d2_row9_col0\" class=\"data row9 col0\" >Ridge Classifier</td>\n",
       "      <td id=\"T_0c1d2_row9_col1\" class=\"data row9 col1\" >0.8210</td>\n",
       "      <td id=\"T_0c1d2_row9_col2\" class=\"data row9 col2\" >0.8516</td>\n",
       "      <td id=\"T_0c1d2_row9_col3\" class=\"data row9 col3\" >0.6906</td>\n",
       "      <td id=\"T_0c1d2_row9_col4\" class=\"data row9 col4\" >0.7338</td>\n",
       "      <td id=\"T_0c1d2_row9_col5\" class=\"data row9 col5\" >0.7115</td>\n",
       "      <td id=\"T_0c1d2_row9_col6\" class=\"data row9 col6\" >0.5819</td>\n",
       "      <td id=\"T_0c1d2_row9_col7\" class=\"data row9 col7\" >0.5825</td>\n",
       "      <td id=\"T_0c1d2_row9_col8\" class=\"data row9 col8\" >0.8050</td>\n",
       "    </tr>\n",
       "    <tr>\n",
       "      <th id=\"T_0c1d2_level0_row10\" class=\"row_heading level0 row10\" >svm</th>\n",
       "      <td id=\"T_0c1d2_row10_col0\" class=\"data row10 col0\" >SVM - Linear Kernel</td>\n",
       "      <td id=\"T_0c1d2_row10_col1\" class=\"data row10 col1\" >0.8113</td>\n",
       "      <td id=\"T_0c1d2_row10_col2\" class=\"data row10 col2\" >0.8436</td>\n",
       "      <td id=\"T_0c1d2_row10_col3\" class=\"data row10 col3\" >0.6865</td>\n",
       "      <td id=\"T_0c1d2_row10_col4\" class=\"data row10 col4\" >0.7178</td>\n",
       "      <td id=\"T_0c1d2_row10_col5\" class=\"data row10 col5\" >0.6985</td>\n",
       "      <td id=\"T_0c1d2_row10_col6\" class=\"data row10 col6\" >0.5618</td>\n",
       "      <td id=\"T_0c1d2_row10_col7\" class=\"data row10 col7\" >0.5647</td>\n",
       "      <td id=\"T_0c1d2_row10_col8\" class=\"data row10 col8\" >2.8090</td>\n",
       "    </tr>\n",
       "    <tr>\n",
       "      <th id=\"T_0c1d2_level0_row11\" class=\"row_heading level0 row11\" >nb</th>\n",
       "      <td id=\"T_0c1d2_row11_col0\" class=\"data row11 col0\" >Naive Bayes</td>\n",
       "      <td id=\"T_0c1d2_row11_col1\" class=\"data row11 col1\" >0.7739</td>\n",
       "      <td id=\"T_0c1d2_row11_col2\" class=\"data row11 col2\" >0.0000</td>\n",
       "      <td id=\"T_0c1d2_row11_col3\" class=\"data row11 col3\" >0.7623</td>\n",
       "      <td id=\"T_0c1d2_row11_col4\" class=\"data row11 col4\" >0.6188</td>\n",
       "      <td id=\"T_0c1d2_row11_col5\" class=\"data row11 col5\" >0.6831</td>\n",
       "      <td id=\"T_0c1d2_row11_col6\" class=\"data row11 col6\" >0.5103</td>\n",
       "      <td id=\"T_0c1d2_row11_col7\" class=\"data row11 col7\" >0.5170</td>\n",
       "      <td id=\"T_0c1d2_row11_col8\" class=\"data row11 col8\" >0.8090</td>\n",
       "    </tr>\n",
       "    <tr>\n",
       "      <th id=\"T_0c1d2_level0_row12\" class=\"row_heading level0 row12\" >dummy</th>\n",
       "      <td id=\"T_0c1d2_row12_col0\" class=\"data row12 col0\" >Dummy Classifier</td>\n",
       "      <td id=\"T_0c1d2_row12_col1\" class=\"data row12 col1\" >0.6803</td>\n",
       "      <td id=\"T_0c1d2_row12_col2\" class=\"data row12 col2\" >0.0000</td>\n",
       "      <td id=\"T_0c1d2_row12_col3\" class=\"data row12 col3\" >0.0000</td>\n",
       "      <td id=\"T_0c1d2_row12_col4\" class=\"data row12 col4\" >0.0000</td>\n",
       "      <td id=\"T_0c1d2_row12_col5\" class=\"data row12 col5\" >0.0000</td>\n",
       "      <td id=\"T_0c1d2_row12_col6\" class=\"data row12 col6\" >0.0000</td>\n",
       "      <td id=\"T_0c1d2_row12_col7\" class=\"data row12 col7\" >0.0000</td>\n",
       "      <td id=\"T_0c1d2_row12_col8\" class=\"data row12 col8\" >0.7120</td>\n",
       "    </tr>\n",
       "    <tr>\n",
       "      <th id=\"T_0c1d2_level0_row13\" class=\"row_heading level0 row13\" >qda</th>\n",
       "      <td id=\"T_0c1d2_row13_col0\" class=\"data row13 col0\" >Quadratic Discriminant Analysis</td>\n",
       "      <td id=\"T_0c1d2_row13_col1\" class=\"data row13 col1\" >0.5948</td>\n",
       "      <td id=\"T_0c1d2_row13_col2\" class=\"data row13 col2\" >0.8425</td>\n",
       "      <td id=\"T_0c1d2_row13_col3\" class=\"data row13 col3\" >0.9015</td>\n",
       "      <td id=\"T_0c1d2_row13_col4\" class=\"data row13 col4\" >0.4537</td>\n",
       "      <td id=\"T_0c1d2_row13_col5\" class=\"data row13 col5\" >0.5964</td>\n",
       "      <td id=\"T_0c1d2_row13_col6\" class=\"data row13 col6\" >0.2887</td>\n",
       "      <td id=\"T_0c1d2_row13_col7\" class=\"data row13 col7\" >0.3534</td>\n",
       "      <td id=\"T_0c1d2_row13_col8\" class=\"data row13 col8\" >0.9280</td>\n",
       "    </tr>\n",
       "  </tbody>\n",
       "</table>\n"
      ],
      "text/plain": [
       "<pandas.io.formats.style.Styler at 0x7f08c6f9aa70>"
      ]
     },
     "metadata": {},
     "output_type": "display_data"
    },
    {
     "data": {
      "text/html": [],
      "text/plain": [
       "<IPython.core.display.HTML object>"
      ]
     },
     "metadata": {},
     "output_type": "display_data"
    }
   ],
   "source": [
    "best = compare_models()"
   ]
  },
  {
   "cell_type": "code",
   "execution_count": 6,
   "metadata": {},
   "outputs": [
    {
     "name": "stdout",
     "output_type": "stream",
     "text": [
      "LGBMClassifier(boosting_type='gbdt', class_weight=None, colsample_bytree=1.0,\n",
      "               importance_type='split', learning_rate=0.1, max_depth=-1,\n",
      "               min_child_samples=20, min_child_weight=0.001, min_split_gain=0.0,\n",
      "               n_estimators=100, n_jobs=-1, num_leaves=31, objective=None,\n",
      "               random_state=8396, reg_alpha=0.0, reg_lambda=0.0, subsample=1.0,\n",
      "               subsample_for_bin=200000, subsample_freq=0)\n"
     ]
    }
   ],
   "source": [
    "print(best)"
   ]
  },
  {
   "cell_type": "markdown",
   "metadata": {},
   "source": [
    "## Save model\n",
    "We save the model so that we can compare it later on against our other models."
   ]
  },
  {
   "cell_type": "code",
   "execution_count": 7,
   "metadata": {},
   "outputs": [
    {
     "name": "stdout",
     "output_type": "stream",
     "text": [
      "Transformation Pipeline and Model Successfully Saved\n"
     ]
    },
    {
     "data": {
      "text/plain": [
       "(Pipeline(memory=Memory(location=None),\n",
       "          steps=[('numerical_imputer',\n",
       "                  TransformerWrapper(exclude=None, include=[],\n",
       "                                     transformer=SimpleImputer(add_indicator=False,\n",
       "                                                               copy=True,\n",
       "                                                               fill_value=None,\n",
       "                                                               keep_empty_features=False,\n",
       "                                                               missing_values=nan,\n",
       "                                                               strategy='mean'))),\n",
       "                 ('categorical_imputer',\n",
       "                  TransformerWrapper(exclude=None,\n",
       "                                     include=['pclass', 'sex', 'age', 'sibsp',\n",
       "                                              'parch', 'far...\n",
       "                  LGBMClassifier(boosting_type='gbdt', class_weight=None,\n",
       "                                 colsample_bytree=1.0, importance_type='split',\n",
       "                                 learning_rate=0.1, max_depth=-1,\n",
       "                                 min_child_samples=20, min_child_weight=0.001,\n",
       "                                 min_split_gain=0.0, n_estimators=100, n_jobs=-1,\n",
       "                                 num_leaves=31, objective=None,\n",
       "                                 random_state=8396, reg_alpha=0.0,\n",
       "                                 reg_lambda=0.0, subsample=1.0,\n",
       "                                 subsample_for_bin=200000, subsample_freq=0))],\n",
       "          verbose=False),\n",
       " 'pycaret_best_pipeline.pkl')"
      ]
     },
     "execution_count": 7,
     "metadata": {},
     "output_type": "execute_result"
    }
   ],
   "source": [
    "save_model(best, 'pycaret_best_pipeline')"
   ]
  },
  {
   "cell_type": "markdown",
   "metadata": {},
   "source": [
    "## Evaluation\n",
    "We already show a bit of evaluation here to see how good our model already is."
   ]
  },
  {
   "cell_type": "code",
   "execution_count": 8,
   "metadata": {},
   "outputs": [
    {
     "data": {
      "image/png": "[encoded data removed]",
      "text/plain": [
       "<Figure size 2700x600 with 1 Axes>"
      ]
     },
     "metadata": {},
     "output_type": "display_data"
    },
    {
     "data": {
      "application/vnd.jupyter.widget-view+json": {
       "model_id": "590fad9a408f430d8f1e2b60651b5f31",
       "version_major": 2,
       "version_minor": 0
      },
      "text/plain": [
       "interactive(children=(ToggleButtons(description='Plot Type:', icons=('',), options=(('Pipeline Plot', 'pipelin…"
      ]
     },
     "metadata": {},
     "output_type": "display_data"
    }
   ],
   "source": [
    "evaluate_model(best)"
   ]
  },
  {
   "cell_type": "code",
   "execution_count": 9,
   "metadata": {},
   "outputs": [
    {
     "data": {
      "text/html": [],
      "text/plain": [
       "<IPython.core.display.HTML object>"
      ]
     },
     "metadata": {},
     "output_type": "display_data"
    },
    {
     "data": {
      "image/png": "[encoded data removed]",
      "text/plain": [
       "<Figure size 800x550 with 1 Axes>"
      ]
     },
     "metadata": {},
     "output_type": "display_data"
    }
   ],
   "source": [
    "plot_model(best, plot = 'confusion_matrix')"
   ]
  }
 ],
 "metadata": {
  "kernelspec": {
   "display_name": "conda_python3",
   "language": "python",
   "name": "conda_python3"
  },
  "language_info": {
   "codemirror_mode": {
    "name": "ipython",
    "version": 3
   },
   "file_extension": ".py",
   "mimetype": "text/x-python",
   "name": "python",
   "nbconvert_exporter": "python",
   "pygments_lexer": "ipython3",
   "version": "3.10.15"
  }
 },
 "nbformat": 4,
 "nbformat_minor": 4
}
