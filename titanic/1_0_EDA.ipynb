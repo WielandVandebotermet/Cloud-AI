{
 "cells": [
  {
   "cell_type": "markdown",
   "metadata": {},
   "source": [
    "# Getting data\n",
    "\n",
    "Our titanic data can be found at this <a src='https://www.kaggle.com/datasets/marcpaulo/titanic-huge-dataset-1m-passengers'>link</a> [https://www.kaggle.com/datasets/marcpaulo/titanic-huge-dataset-1m-passengers]. This is a dataset that is enlarged to 1 million rows but still tries to keep the logic behind the normal titanic-datasets. As we will see later, the number of rows will be slimmed down a bit anyway."
   ]
  },
  {
   "cell_type": "code",
   "execution_count": 1,
   "metadata": {},
   "outputs": [],
   "source": [
    "import pandas as pd\n",
    "import matplotlib.pyplot as plt\n",
    "import math"
   ]
  },
  {
   "cell_type": "markdown",
   "metadata": {},
   "source": [
    "Here, we load our dataset. Since this notebook focuses on data exploration, we will use a pre-downloaded version of the dataset. If you'd like to learn how to obtain the dataset from Kaggle, we recommend reading the next notebook ([1_1_scrape_clean](./1_1_scrape_clean.ipynb))."
   ]
  },
  {
   "cell_type": "code",
   "execution_count": 3,
   "metadata": {},
   "outputs": [
    {
     "data": {
      "text/html": [
       "<div>\n",
       "<style scoped>\n",
       "    .dataframe tbody tr th:only-of-type {\n",
       "        vertical-align: middle;\n",
       "    }\n",
       "\n",
       "    .dataframe tbody tr th {\n",
       "        vertical-align: top;\n",
       "    }\n",
       "\n",
       "    .dataframe thead th {\n",
       "        text-align: right;\n",
       "    }\n",
       "</style>\n",
       "<table border=\"1\" class=\"dataframe\">\n",
       "  <thead>\n",
       "    <tr style=\"text-align: right;\">\n",
       "      <th></th>\n",
       "      <th>PassengerId</th>\n",
       "      <th>Survived</th>\n",
       "      <th>Pclass</th>\n",
       "      <th>Name</th>\n",
       "      <th>Sex</th>\n",
       "      <th>Age</th>\n",
       "      <th>SibSp</th>\n",
       "      <th>Parch</th>\n",
       "      <th>Ticket</th>\n",
       "      <th>Fare</th>\n",
       "      <th>Cabin</th>\n",
       "      <th>Embarked</th>\n",
       "    </tr>\n",
       "  </thead>\n",
       "  <tbody>\n",
       "    <tr>\n",
       "      <th>0</th>\n",
       "      <td>1310</td>\n",
       "      <td>1</td>\n",
       "      <td>1</td>\n",
       "      <td>Name1310, Miss. Surname1310</td>\n",
       "      <td>female</td>\n",
       "      <td>NaN</td>\n",
       "      <td>0</td>\n",
       "      <td>0</td>\n",
       "      <td>SOTON/O2 3101272</td>\n",
       "      <td>76.760165</td>\n",
       "      <td>NaN</td>\n",
       "      <td>C</td>\n",
       "    </tr>\n",
       "    <tr>\n",
       "      <th>1</th>\n",
       "      <td>1311</td>\n",
       "      <td>0</td>\n",
       "      <td>3</td>\n",
       "      <td>Name1311, Col. Surname1311</td>\n",
       "      <td>male</td>\n",
       "      <td>29.0</td>\n",
       "      <td>0</td>\n",
       "      <td>0</td>\n",
       "      <td>223596</td>\n",
       "      <td>10.193097</td>\n",
       "      <td>NaN</td>\n",
       "      <td>S</td>\n",
       "    </tr>\n",
       "    <tr>\n",
       "      <th>2</th>\n",
       "      <td>1312</td>\n",
       "      <td>0</td>\n",
       "      <td>3</td>\n",
       "      <td>Name1312, Mr. Surname1312</td>\n",
       "      <td>male</td>\n",
       "      <td>20.0</td>\n",
       "      <td>0</td>\n",
       "      <td>0</td>\n",
       "      <td>54636</td>\n",
       "      <td>12.029416</td>\n",
       "      <td>C83</td>\n",
       "      <td>C</td>\n",
       "    </tr>\n",
       "    <tr>\n",
       "      <th>3</th>\n",
       "      <td>1313</td>\n",
       "      <td>0</td>\n",
       "      <td>3</td>\n",
       "      <td>Name1313, Mr. Surname1313</td>\n",
       "      <td>male</td>\n",
       "      <td>27.0</td>\n",
       "      <td>0</td>\n",
       "      <td>0</td>\n",
       "      <td>PC 17760</td>\n",
       "      <td>13.429448</td>\n",
       "      <td>NaN</td>\n",
       "      <td>S</td>\n",
       "    </tr>\n",
       "    <tr>\n",
       "      <th>4</th>\n",
       "      <td>1314</td>\n",
       "      <td>0</td>\n",
       "      <td>3</td>\n",
       "      <td>Name1314, Mr. Surname1314</td>\n",
       "      <td>male</td>\n",
       "      <td>32.0</td>\n",
       "      <td>0</td>\n",
       "      <td>0</td>\n",
       "      <td>364512</td>\n",
       "      <td>4.840769</td>\n",
       "      <td>E33</td>\n",
       "      <td>C</td>\n",
       "    </tr>\n",
       "  </tbody>\n",
       "</table>\n",
       "</div>"
      ],
      "text/plain": [
       "   PassengerId  Survived  Pclass                         Name     Sex   Age  \\\n",
       "0         1310         1       1  Name1310, Miss. Surname1310  female   NaN   \n",
       "1         1311         0       3   Name1311, Col. Surname1311    male  29.0   \n",
       "2         1312         0       3    Name1312, Mr. Surname1312    male  20.0   \n",
       "3         1313         0       3    Name1313, Mr. Surname1313    male  27.0   \n",
       "4         1314         0       3    Name1314, Mr. Surname1314    male  32.0   \n",
       "\n",
       "   SibSp  Parch            Ticket       Fare Cabin Embarked  \n",
       "0      0      0  SOTON/O2 3101272  76.760165   NaN        C  \n",
       "1      0      0            223596  10.193097   NaN        S  \n",
       "2      0      0             54636  12.029416   C83        C  \n",
       "3      0      0          PC 17760  13.429448   NaN        S  \n",
       "4      0      0            364512   4.840769   E33        C  "
      ]
     },
     "execution_count": 3,
     "metadata": {},
     "output_type": "execute_result"
    }
   ],
   "source": [
    "df = pd.read_csv(\"huge_1M_titanic.csv\")\n",
    "\n",
    "df.head()"
   ]
  },
  {
   "cell_type": "markdown",
   "metadata": {},
   "source": [
    "# Visualisation Data\n",
    "In this section, we will visualize the data that will be used in this project. Before that, however, we'll provide an explanation of the data we won't be using, as it either wouldn't contribute much or isn't particularly useful."
   ]
  },
  {
   "cell_type": "markdown",
   "metadata": {},
   "source": [
    "## Unused data\n",
    "\n",
    "\"We will not be using the 'PassengerId' as it does not provide any relevant information related to the actual Titanic events. The passengers' names will also be excluded, as they were added to the dataset to expand on the original Titanic data and consist of filler names. Additionally, the 'ticket' column will not be used, as it contains unique values with no meaningful connections. Although the 'cabin' data might have been useful, given the potential link between cabin names, over 77% of this column is missing, as shown in the code block below, making it less useful for our analysis.\""
   ]
  },
  {
   "cell_type": "code",
   "execution_count": 4,
   "metadata": {},
   "outputs": [
    {
     "name": "stdout",
     "output_type": "stream",
     "text": [
      "Percentage of \"Cabin\"-column that is empty: 77.0195 %\n"
     ]
    }
   ],
   "source": [
    "percentage_cabin_filled = sum(df[\"Cabin\"].isna())/len(df[\"Cabin\"]) * 100\n",
    "print(f\"Percentage of \\\"Cabin\\\"-column that is empty: {str(percentage_cabin_filled)} %\")"
   ]
  },
  {
   "cell_type": "markdown",
   "metadata": {},
   "source": [
    "Since we won't be using the previously mentioned data, we can remove those columns from the dataframe and retain only the ones that are necessary for our analysis."
   ]
  },
  {
   "cell_type": "code",
   "execution_count": 5,
   "metadata": {},
   "outputs": [
    {
     "data": {
      "text/html": [
       "<div>\n",
       "<style scoped>\n",
       "    .dataframe tbody tr th:only-of-type {\n",
       "        vertical-align: middle;\n",
       "    }\n",
       "\n",
       "    .dataframe tbody tr th {\n",
       "        vertical-align: top;\n",
       "    }\n",
       "\n",
       "    .dataframe thead th {\n",
       "        text-align: right;\n",
       "    }\n",
       "</style>\n",
       "<table border=\"1\" class=\"dataframe\">\n",
       "  <thead>\n",
       "    <tr style=\"text-align: right;\">\n",
       "      <th></th>\n",
       "      <th>Survived</th>\n",
       "      <th>Pclass</th>\n",
       "      <th>Sex</th>\n",
       "      <th>Age</th>\n",
       "      <th>SibSp</th>\n",
       "      <th>Parch</th>\n",
       "      <th>Fare</th>\n",
       "      <th>Embarked</th>\n",
       "    </tr>\n",
       "  </thead>\n",
       "  <tbody>\n",
       "    <tr>\n",
       "      <th>0</th>\n",
       "      <td>1</td>\n",
       "      <td>1</td>\n",
       "      <td>female</td>\n",
       "      <td>NaN</td>\n",
       "      <td>0</td>\n",
       "      <td>0</td>\n",
       "      <td>76.760165</td>\n",
       "      <td>C</td>\n",
       "    </tr>\n",
       "    <tr>\n",
       "      <th>1</th>\n",
       "      <td>0</td>\n",
       "      <td>3</td>\n",
       "      <td>male</td>\n",
       "      <td>29.0</td>\n",
       "      <td>0</td>\n",
       "      <td>0</td>\n",
       "      <td>10.193097</td>\n",
       "      <td>S</td>\n",
       "    </tr>\n",
       "    <tr>\n",
       "      <th>2</th>\n",
       "      <td>0</td>\n",
       "      <td>3</td>\n",
       "      <td>male</td>\n",
       "      <td>20.0</td>\n",
       "      <td>0</td>\n",
       "      <td>0</td>\n",
       "      <td>12.029416</td>\n",
       "      <td>C</td>\n",
       "    </tr>\n",
       "    <tr>\n",
       "      <th>3</th>\n",
       "      <td>0</td>\n",
       "      <td>3</td>\n",
       "      <td>male</td>\n",
       "      <td>27.0</td>\n",
       "      <td>0</td>\n",
       "      <td>0</td>\n",
       "      <td>13.429448</td>\n",
       "      <td>S</td>\n",
       "    </tr>\n",
       "    <tr>\n",
       "      <th>4</th>\n",
       "      <td>0</td>\n",
       "      <td>3</td>\n",
       "      <td>male</td>\n",
       "      <td>32.0</td>\n",
       "      <td>0</td>\n",
       "      <td>0</td>\n",
       "      <td>4.840769</td>\n",
       "      <td>C</td>\n",
       "    </tr>\n",
       "  </tbody>\n",
       "</table>\n",
       "</div>"
      ],
      "text/plain": [
       "   Survived  Pclass     Sex   Age  SibSp  Parch       Fare Embarked\n",
       "0         1       1  female   NaN      0      0  76.760165        C\n",
       "1         0       3    male  29.0      0      0  10.193097        S\n",
       "2         0       3    male  20.0      0      0  12.029416        C\n",
       "3         0       3    male  27.0      0      0  13.429448        S\n",
       "4         0       3    male  32.0      0      0   4.840769        C"
      ]
     },
     "execution_count": 5,
     "metadata": {},
     "output_type": "execute_result"
    }
   ],
   "source": [
    "used_columns = [\"Survived\", \"Pclass\", \"Sex\", \"Age\", \"SibSp\", \"Parch\", \"Fare\", \"Embarked\"]\n",
    "df = df[used_columns]\n",
    "df.head()"
   ]
  },
  {
   "cell_type": "markdown",
   "metadata": {},
   "source": [
    "We also rename the columns to eliminate underscores and capitalisation of the columns appropriately."
   ]
  },
  {
   "cell_type": "code",
   "execution_count": 230,
   "metadata": {},
   "outputs": [
    {
     "data": {
      "text/html": [
       "<div>\n",
       "<style scoped>\n",
       "    .dataframe tbody tr th:only-of-type {\n",
       "        vertical-align: middle;\n",
       "    }\n",
       "\n",
       "    .dataframe tbody tr th {\n",
       "        vertical-align: top;\n",
       "    }\n",
       "\n",
       "    .dataframe thead th {\n",
       "        text-align: right;\n",
       "    }\n",
       "</style>\n",
       "<table border=\"1\" class=\"dataframe\">\n",
       "  <thead>\n",
       "    <tr style=\"text-align: right;\">\n",
       "      <th></th>\n",
       "      <th>survived</th>\n",
       "      <th>pclass</th>\n",
       "      <th>sex</th>\n",
       "      <th>age</th>\n",
       "      <th>sibsp</th>\n",
       "      <th>parch</th>\n",
       "      <th>fare</th>\n",
       "      <th>embarked</th>\n",
       "    </tr>\n",
       "  </thead>\n",
       "  <tbody>\n",
       "    <tr>\n",
       "      <th>0</th>\n",
       "      <td>1</td>\n",
       "      <td>1</td>\n",
       "      <td>female</td>\n",
       "      <td>NaN</td>\n",
       "      <td>0</td>\n",
       "      <td>0</td>\n",
       "      <td>76.760165</td>\n",
       "      <td>C</td>\n",
       "    </tr>\n",
       "    <tr>\n",
       "      <th>1</th>\n",
       "      <td>0</td>\n",
       "      <td>3</td>\n",
       "      <td>male</td>\n",
       "      <td>29.0</td>\n",
       "      <td>0</td>\n",
       "      <td>0</td>\n",
       "      <td>10.193097</td>\n",
       "      <td>S</td>\n",
       "    </tr>\n",
       "    <tr>\n",
       "      <th>2</th>\n",
       "      <td>0</td>\n",
       "      <td>3</td>\n",
       "      <td>male</td>\n",
       "      <td>20.0</td>\n",
       "      <td>0</td>\n",
       "      <td>0</td>\n",
       "      <td>12.029416</td>\n",
       "      <td>C</td>\n",
       "    </tr>\n",
       "    <tr>\n",
       "      <th>3</th>\n",
       "      <td>0</td>\n",
       "      <td>3</td>\n",
       "      <td>male</td>\n",
       "      <td>27.0</td>\n",
       "      <td>0</td>\n",
       "      <td>0</td>\n",
       "      <td>13.429448</td>\n",
       "      <td>S</td>\n",
       "    </tr>\n",
       "    <tr>\n",
       "      <th>4</th>\n",
       "      <td>0</td>\n",
       "      <td>3</td>\n",
       "      <td>male</td>\n",
       "      <td>32.0</td>\n",
       "      <td>0</td>\n",
       "      <td>0</td>\n",
       "      <td>4.840769</td>\n",
       "      <td>C</td>\n",
       "    </tr>\n",
       "  </tbody>\n",
       "</table>\n",
       "</div>"
      ],
      "text/plain": [
       "   survived  pclass     sex   age  sibsp  parch       fare embarked\n",
       "0         1       1  female   NaN      0      0  76.760165        C\n",
       "1         0       3    male  29.0      0      0  10.193097        S\n",
       "2         0       3    male  20.0      0      0  12.029416        C\n",
       "3         0       3    male  27.0      0      0  13.429448        S\n",
       "4         0       3    male  32.0      0      0   4.840769        C"
      ]
     },
     "execution_count": 230,
     "metadata": {},
     "output_type": "execute_result"
    }
   ],
   "source": [
    "lower_used_columns = [x.lower() for x in used_columns]\n",
    "\n",
    "new_column_names = {x: y for x,y in zip(used_columns,lower_used_columns)}\n",
    "\n",
    "used_columns = lower_used_columns\n",
    "\n",
    "df = df.rename(columns=new_column_names)\n",
    "\n",
    "df.head()"
   ]
  },
  {
   "cell_type": "markdown",
   "metadata": {},
   "source": [
    "Now that we've isolated the relevant data, let's examine the types of data present in the usable columns."
   ]
  },
  {
   "cell_type": "code",
   "execution_count": 231,
   "metadata": {},
   "outputs": [
    {
     "name": "stdout",
     "output_type": "stream",
     "text": [
      "--survived--\n",
      "amount of unique values: 2\n",
      "nulls present: 0\n",
      "[0 1]\n",
      "--pclass--\n",
      "amount of unique values: 3\n",
      "nulls present: 0\n",
      "[1 2 3]\n",
      "--sex--\n",
      "amount of unique values: 2\n",
      "nulls present: 0\n",
      "['female' 'male']\n",
      "--age--\n",
      "amount of unique values: 103\n",
      "nulls present: 198600\n",
      "[  0.   1.   2.   3.   4.   5.   6.   7.   8.   9.  10.  11.  12.  13.\n",
      "  14.  15.  16.  17.  18.  19.  20.  21.  22.  23.  24.  25.  26.  27.\n",
      "  28.  29.  30.  31.  32.  33.  34.  35.  36.  37.  38.  39.  40.  41.\n",
      "  42.  43.  44.  45.  46.  47.  48.  49.  50.  51.  52.  53.  54.  55.\n",
      "  56.  57.  58.  59.  60.  61.  62.  63.  64.  65.  66.  67.  68.  69.\n",
      "  70.  71.  72.  73.  74.  75.  76.  77.  78.  79.  80.  81.  82.  83.\n",
      "  84.  85.  86.  87.  88.  89.  90.  91.  92.  93.  94.  95.  96.  97.\n",
      "  98. 100. 101. 114.  nan]\n",
      "--sibsp--\n",
      "amount of unique values: 7\n",
      "nulls present: 0\n",
      "[0 1 2 3 4 5 8]\n",
      "--parch--\n",
      "amount of unique values: 7\n",
      "nulls present: 0\n",
      "[0 1 2 3 4 5 6]\n",
      "--fare--\n",
      "amount of unique values: 938264\n",
      "nulls present: 0\n",
      "min value: 0.0\n",
      "max value: 640.8836138220682\n",
      "mean value: 35.66277427289337\n",
      "--embarked--\n",
      "amount of unique values: 4\n",
      "nulls present: 2240\n",
      "['C' 'S' 'Q' nan]\n"
     ]
    }
   ],
   "source": [
    "for x in used_columns:\n",
    "    print(f\"--{x}--\")\n",
    "    values = df[x].unique()\n",
    "    print(f\"amount of unique values: {str(len(values))}\")\n",
    "    print(f\"nulls present: {str(df[x].isna().sum())}\")\n",
    "    # Our \"Fare\"-column has too many different values, to make it easier to read we will only use some important values\n",
    "    if x == 'fare':\n",
    "        print(\"min value: \" + str(values.min()))\n",
    "        print(\"max value: \" + str(values.max()))\n",
    "        print(\"mean value: \" + str(values.mean()))\n",
    "        continue\n",
    "    if pd.api.types.is_numeric_dtype(df[x]):\n",
    "        values.sort()\n",
    "    print(values)"
   ]
  },
  {
   "cell_type": "markdown",
   "metadata": {},
   "source": [
    "To gain a better understanding of the available data, we'll also use some graphs for a clearer visual representation. As mentioned earlier, there are columns with missing data, such as 'age' and 'embarked'. We'll explore whether we can remove those rows without significantly impacting the dataset's size."
   ]
  },
  {
   "cell_type": "markdown",
   "metadata": {},
   "source": [
    "## Feature 1: Pclass (Passenger class)\n",
    "This column represents the passenger classes, which, as mentioned earlier, range from '1' to '3'."
   ]
  },
  {
   "cell_type": "code",
   "execution_count": 232,
   "metadata": {},
   "outputs": [
    {
     "data": {
      "image/png": "[encoded data removed]",
      "text/plain": [
       "<Figure size 640x480 with 1 Axes>"
      ]
     },
     "metadata": {},
     "output_type": "display_data"
    }
   ],
   "source": [
    "pclass_amounts = [len([y for y in df[\"pclass\"] if y == x]) for x in df[\"pclass\"].unique()]\n",
    "\n",
    "pclass_bar = plt.bar(df[\"pclass\"].unique(), pclass_amounts)\n",
    "plt.xticks(df[\"pclass\"].unique(), df[\"pclass\"].unique())\n",
    "plt.bar_label(pclass_bar, labels=pclass_amounts)\n",
    "\n",
    "plt.show()"
   ]
  },
  {
   "cell_type": "markdown",
   "metadata": {},
   "source": [
    "## Feature 2: Sex\n",
    "This column indicates the passengers' sex, coded as 'female' and 'male'. For the purpose of training the models, this will be converted into numerical values."
   ]
  },
  {
   "cell_type": "code",
   "execution_count": 233,
   "metadata": {},
   "outputs": [
    {
     "data": {
      "image/png": "[encoded data removed]",
      "text/plain": [
       "<Figure size 640x480 with 1 Axes>"
      ]
     },
     "metadata": {},
     "output_type": "display_data"
    }
   ],
   "source": [
    "sex_amounts = [len([y for y in df[\"sex\"] if y == x]) for x in df[\"sex\"].unique()]\n",
    "\n",
    "sex_labels = [df[\"sex\"].unique()[x] + \" - \" + str(sex_amounts[x]) for x in range(len(df[\"sex\"].unique()))]\n",
    "\n",
    "sex_pie = plt.pie(sex_amounts, labels=sex_labels)\n",
    "\n",
    "plt.show()"
   ]
  },
  {
   "cell_type": "markdown",
   "metadata": {},
   "source": [
    "## Feature 3: Age\n",
    "The values in this column range from '0' to '101', with at least one passenger listed as being 114 years old. As noted in the general data overview, there are also NaN values in this column. We will begin by checking how many of these are present."
   ]
  },
  {
   "cell_type": "code",
   "execution_count": 234,
   "metadata": {},
   "outputs": [
    {
     "name": "stdout",
     "output_type": "stream",
     "text": [
      "nulls present: 198600\n"
     ]
    }
   ],
   "source": [
    "print(f\"nulls present: {df['age'].isna().sum()}\")"
   ]
  },
  {
   "cell_type": "markdown",
   "metadata": {},
   "source": [
    "Since we can't substitute a different value for age, we'll remove those rows. As observed during the initial data overview, the 'Age' column contains float values. Since this level of precision isn't necessary, we will convert these to int32. This change shouldn't significantly affect the data but makes more sense given the nature of the input."
   ]
  },
  {
   "cell_type": "code",
   "execution_count": 235,
   "metadata": {},
   "outputs": [
    {
     "name": "stdout",
     "output_type": "stream",
     "text": [
      "nulls present: 0\n"
     ]
    }
   ],
   "source": [
    "df = df.dropna(subset=[\"age\"])\n",
    "\n",
    "df[\"age\"] = df[\"age\"].astype(\"int64\")\n",
    "print(f\"nulls present: {df['age'].isna().sum()}\")"
   ]
  },
  {
   "cell_type": "code",
   "execution_count": 236,
   "metadata": {},
   "outputs": [
    {
     "data": {
      "image/png": "[encoded data removed]",
      "text/plain": [
       "<Figure size 1000x400 with 1 Axes>"
      ]
     },
     "metadata": {},
     "output_type": "display_data"
    }
   ],
   "source": [
    "bin_size = 10\n",
    "\n",
    "plt.figure(figsize=(10,4))\n",
    "plt.hist(df[\"age\"], bins=math.ceil(df[\"age\"].max()/bin_size))\n",
    "\n",
    "ticks_array = [x for x in range(0, math.ceil(df[\"age\"].max()/ bin_size) * 10, 5)]\n",
    "\n",
    "plt.xticks(ticks_array)\n",
    "\n",
    "plt.show()"
   ]
  },
  {
   "cell_type": "markdown",
   "metadata": {},
   "source": [
    "Since this data is right-skewed, we'll first check how many rows have values above 70 before removing them to achieve a more balanced dataset."
   ]
  },
  {
   "cell_type": "code",
   "execution_count": 237,
   "metadata": {},
   "outputs": [
    {
     "name": "stdout",
     "output_type": "stream",
     "text": [
      "amount of people above 70: 2020\n",
      "percentage of people above 70 in the dataset: 0.0025205889693037187 %\n"
     ]
    }
   ],
   "source": [
    "max_age = 70\n",
    "amount_above_max_age = len([x for x in df[\"age\"] if x > max_age])\n",
    "print(f\"amount of people above {max_age}: {str(amount_above_max_age)}\")\n",
    "print(f\"percentage of people above {max_age} in the dataset: {str(amount_above_max_age/round(len(df['age']), 3))} %\")"
   ]
  },
  {
   "cell_type": "markdown",
   "metadata": {},
   "source": [
    "Now that we know the number is as small as it appears, we will remove these rows to create a more balanced dataset."
   ]
  },
  {
   "cell_type": "code",
   "execution_count": 238,
   "metadata": {},
   "outputs": [
    {
     "name": "stdout",
     "output_type": "stream",
     "text": [
      "amount of people above 70: 0\n"
     ]
    }
   ],
   "source": [
    "df = df[df[\"age\"] <= max_age]\n",
    "\n",
    "amount_above_max_age = len([x for x in df[\"age\"] if x > max_age])\n",
    "print(f\"amount of people above {max_age}: {str(amount_above_max_age)}\")"
   ]
  },
  {
   "cell_type": "markdown",
   "metadata": {},
   "source": [
    "The graph is recreated for visual clarity."
   ]
  },
  {
   "cell_type": "code",
   "execution_count": 239,
   "metadata": {},
   "outputs": [
    {
     "data": {
      "image/png": "[encoded data removed]",
      "text/plain": [
       "<Figure size 1000x400 with 1 Axes>"
      ]
     },
     "metadata": {},
     "output_type": "display_data"
    }
   ],
   "source": [
    "bin_size = 10\n",
    "\n",
    "plt.figure(figsize=(10,4))\n",
    "plt.hist(df[\"age\"], bins=math.ceil(df[\"age\"].max()/bin_size))\n",
    "\n",
    "ticks_array = [x for x in range(0, math.ceil(df[\"age\"].max()/ bin_size) * 10, 5)]\n",
    "\n",
    "plt.xticks(ticks_array)\n",
    "\n",
    "plt.show()"
   ]
  },
  {
   "cell_type": "markdown",
   "metadata": {},
   "source": [
    "## Feature 4: SibSp (Siblings and/or Spouses)\n",
    "This column represents the number of siblings and/or spouses each passenger had aboard the Titanic. As noted earlier, and as we'll see shortly, there are no values for '6' or '7', though the range spans from '0' to '8'. We will assess whether it is useful to keep the '8' value or not."
   ]
  },
  {
   "cell_type": "code",
   "execution_count": 240,
   "metadata": {},
   "outputs": [
    {
     "data": {
      "image/png": "[encoded data removed]",
      "text/plain": [
       "<Figure size 640x480 with 1 Axes>"
      ]
     },
     "metadata": {},
     "output_type": "display_data"
    }
   ],
   "source": [
    "sibsp_sorted_values = df[\"sibsp\"].unique()\n",
    "sibsp_sorted_values.sort()\n",
    "\n",
    "sibsp_amounts = [len([y for y in df[\"sibsp\"] if y == x]) for x in sibsp_sorted_values]\n",
    "\n",
    "sibsp_bar = plt.bar(sibsp_sorted_values, sibsp_amounts)\n",
    "plt.xticks(range(0,df[\"sibsp\"].max() + 1), range(0,df[\"sibsp\"].max() + 1))\n",
    "plt.bar_label(sibsp_bar, labels=sibsp_amounts)\n",
    "\n",
    "plt.show()"
   ]
  },
  {
   "cell_type": "markdown",
   "metadata": {},
   "source": [
    "As observed, there is minimal data outside of the '0' and '1' columns. To maintain a diverse range of results, we will remove the extreme outliers, specifically '5' and '8'."
   ]
  },
  {
   "cell_type": "code",
   "execution_count": 241,
   "metadata": {},
   "outputs": [
    {
     "name": "stdout",
     "output_type": "stream",
     "text": [
      "Amount of people with more than 4 siblings or spouses: 10968\n",
      "Percentage of people with more than 4 siblings or spouses in the dataset: 0.013720633490955491 %\n"
     ]
    }
   ],
   "source": [
    "max_sibsp = 4\n",
    "amount_above_max_sibsp = len([x for x in df[\"sibsp\"] if x > max_sibsp])\n",
    "print(f\"Amount of people with more than {max_sibsp} siblings or spouses: {str(amount_above_max_sibsp)}\")\n",
    "print(f\"Percentage of people with more than {max_sibsp} siblings or spouses in the dataset: {str(amount_above_max_sibsp/round(len(df['sibsp']), 3))} %\")"
   ]
  },
  {
   "cell_type": "code",
   "execution_count": 242,
   "metadata": {},
   "outputs": [],
   "source": [
    "df = df[df[\"sibsp\"] <= max_sibsp]"
   ]
  },
  {
   "cell_type": "code",
   "execution_count": 243,
   "metadata": {},
   "outputs": [
    {
     "name": "stdout",
     "output_type": "stream",
     "text": [
      "Amount of people with more than 4 siblings or spouses: 0\n"
     ]
    }
   ],
   "source": [
    "amount_above_max_sibsp = len([x for x in df[\"sibsp\"] if x > max_sibsp])\n",
    "print(f\"Amount of people with more than {max_sibsp} siblings or spouses: {str(amount_above_max_sibsp)}\")"
   ]
  },
  {
   "cell_type": "markdown",
   "metadata": {},
   "source": [
    "The graph is recreated for visual clarity."
   ]
  },
  {
   "cell_type": "code",
   "execution_count": 244,
   "metadata": {},
   "outputs": [
    {
     "data": {
      "image/png": "[encoded data removed]",
      "text/plain": [
       "<Figure size 640x480 with 1 Axes>"
      ]
     },
     "metadata": {},
     "output_type": "display_data"
    }
   ],
   "source": [
    "sibsp_sorted_values = df[\"sibsp\"].unique()\n",
    "sibsp_sorted_values.sort()\n",
    "\n",
    "sibsp_amounts = [len([y for y in df[\"sibsp\"] if y == x]) for x in sibsp_sorted_values]\n",
    "\n",
    "sibsp_bar = plt.bar(sibsp_sorted_values, sibsp_amounts)\n",
    "plt.xticks(range(0,df[\"sibsp\"].max() + 1), range(0,df[\"sibsp\"].max() + 1))\n",
    "plt.bar_label(sibsp_bar, labels=sibsp_amounts)\n",
    "\n",
    "plt.show()"
   ]
  },
  {
   "cell_type": "markdown",
   "metadata": {},
   "source": [
    "## Feature 5: Parch (Parents and/or children)\n",
    "This column represents the number of parents and/or children each passenger aboard the Titanic had."
   ]
  },
  {
   "cell_type": "code",
   "execution_count": 245,
   "metadata": {},
   "outputs": [
    {
     "data": {
      "image/png": "[encoded data removed]",
      "text/plain": [
       "<Figure size 640x480 with 1 Axes>"
      ]
     },
     "metadata": {},
     "output_type": "display_data"
    }
   ],
   "source": [
    "parch_sorted_values = df[\"parch\"].unique()\n",
    "parch_sorted_values.sort()\n",
    "\n",
    "parch_amounts = [len([y for y in df[\"parch\"] if y == x]) for x in parch_sorted_values]\n",
    "\n",
    "parch_bar = plt.bar(parch_sorted_values, parch_amounts)\n",
    "plt.xticks(range(0,df[\"parch\"].max() + 1), range(0,df[\"parch\"].max() + 1))\n",
    "plt.bar_label(parch_bar, labels=parch_amounts)\n",
    "\n",
    "plt.show()"
   ]
  },
  {
   "cell_type": "markdown",
   "metadata": {},
   "source": [
    "As observed above, the values starting from '3' do not contribute much to the dataset. To maintain the relevance of this column, we will remove all values from '3' onwards."
   ]
  },
  {
   "cell_type": "code",
   "execution_count": null,
   "metadata": {},
   "outputs": [
    {
     "name": "stdout",
     "output_type": "stream",
     "text": [
      "Amount of people with more than 4 parents or children: 0\n",
      "Percentage of people with more than 4 parents or children in the dataset: 0.0 %\n"
     ]
    }
   ],
   "source": [
    "max_parch = 2\n",
    "amount_above_max_parch = len([x for x in df[\"parch\"] if x > max_sibsp])\n",
    "print(f\"Amount of people with more than {max_sibsp} parents or children: {str(amount_above_max_sibsp)}\")\n",
    "print(f\"Percentage of people with more than {max_sibsp} parents or children in the dataset: {str(amount_above_max_sibsp/round(len(df['parch']), 3))} %\")"
   ]
  },
  {
   "cell_type": "code",
   "execution_count": 247,
   "metadata": {},
   "outputs": [],
   "source": [
    "df = df[df[\"parch\"] <= max_parch]"
   ]
  },
  {
   "cell_type": "code",
   "execution_count": 248,
   "metadata": {},
   "outputs": [
    {
     "name": "stdout",
     "output_type": "stream",
     "text": [
      "Amount of people with more than 4 parents or children: 0\n"
     ]
    }
   ],
   "source": [
    "amount_above_max_parch = len([x for x in df[\"parch\"] if x > max_sibsp])\n",
    "print(f\"Amount of people with more than {max_sibsp} parents or children: {str(amount_above_max_sibsp)}\")"
   ]
  },
  {
   "cell_type": "markdown",
   "metadata": {},
   "source": [
    "The graph is recreated for visual clarity."
   ]
  },
  {
   "cell_type": "code",
   "execution_count": 249,
   "metadata": {},
   "outputs": [
    {
     "data": {
      "image/png": "[encoded data removed]",
      "text/plain": [
       "<Figure size 640x480 with 1 Axes>"
      ]
     },
     "metadata": {},
     "output_type": "display_data"
    }
   ],
   "source": [
    "parch_sorted_values = df[\"parch\"].unique()\n",
    "parch_sorted_values.sort()\n",
    "\n",
    "parch_amounts = [len([y for y in df[\"parch\"] if y == x]) for x in parch_sorted_values]\n",
    "\n",
    "parch_bar = plt.bar(parch_sorted_values, parch_amounts)\n",
    "plt.xticks(range(0,df[\"parch\"].max() + 1), range(0,df[\"parch\"].max() + 1))\n",
    "plt.bar_label(parch_bar, labels=parch_amounts)\n",
    "\n",
    "plt.show()"
   ]
  },
  {
   "cell_type": "markdown",
   "metadata": {},
   "source": [
    "## Feature 6: Fare\n",
    "This column records the fares paid for boarding the Titanic. These are continuous values, which will be visualized using a boxplot."
   ]
  },
  {
   "cell_type": "code",
   "execution_count": 250,
   "metadata": {},
   "outputs": [
    {
     "name": "stdout",
     "output_type": "stream",
     "text": [
      "640.8836138220682\n"
     ]
    },
    {
     "data": {
      "text/plain": [
       "<Axes: >"
      ]
     },
     "execution_count": 250,
     "metadata": {},
     "output_type": "execute_result"
    },
    {
     "data": {
      "image/png": "[encoded data removed]",
      "text/plain": [
       "<Figure size 640x480 with 1 Axes>"
      ]
     },
     "metadata": {},
     "output_type": "display_data"
    }
   ],
   "source": [
    "print(df[\"fare\"].max())\n",
    "df[\"fare\"].plot.box()"
   ]
  },
  {
   "cell_type": "markdown",
   "metadata": {},
   "source": [
    "As shown in the boxplot, there are many points that could be considered outliers. We will examine how many there are and determine whether it's worthwhile to remove them."
   ]
  },
  {
   "cell_type": "code",
   "execution_count": 251,
   "metadata": {},
   "outputs": [
    {
     "name": "stdout",
     "output_type": "stream",
     "text": [
      "Amount above 37: 181743\n",
      "Percentage of dataset with fares higher than 37: 0.232 %\n"
     ]
    }
   ],
   "source": [
    "max_fare = 37\n",
    "amount_above_max_fare = len([x for x in df[\"fare\"] if x > max_fare])\n",
    "print(f\"Amount above {max_fare}: {str(amount_above_max_fare)}\")\n",
    "print(f\"Percentage of dataset with fares higher than {max_fare}: {round(amount_above_max_fare/len(df['fare']), 3)} %\")"
   ]
  },
  {
   "cell_type": "markdown",
   "metadata": {},
   "source": [
    "Since the percentage of the dataset identified as outliers is very small, we will remove these rows to create a more balanced dataset."
   ]
  },
  {
   "cell_type": "code",
   "execution_count": 252,
   "metadata": {},
   "outputs": [
    {
     "name": "stdout",
     "output_type": "stream",
     "text": [
      "Amount above 37: 0\n"
     ]
    }
   ],
   "source": [
    "df = df[df[\"fare\"] < max_fare]\n",
    "\n",
    "amount_above_max_fare = len([x for x in df[\"fare\"] if x > max_fare])\n",
    "print(f\"Amount above {max_fare}: {str(amount_above_max_fare)}\")"
   ]
  },
  {
   "cell_type": "markdown",
   "metadata": {},
   "source": [
    "The graph is recreated for visual clarity."
   ]
  },
  {
   "cell_type": "code",
   "execution_count": 253,
   "metadata": {},
   "outputs": [
    {
     "data": {
      "text/plain": [
       "<Axes: >"
      ]
     },
     "execution_count": 253,
     "metadata": {},
     "output_type": "execute_result"
    },
    {
     "data": {
      "image/png": "[encoded data removed]",
      "text/plain": [
       "<Figure size 640x480 with 1 Axes>"
      ]
     },
     "metadata": {},
     "output_type": "display_data"
    }
   ],
   "source": [
    "df[\"fare\"].plot.box()"
   ]
  },
  {
   "cell_type": "markdown",
   "metadata": {},
   "source": [
    "## Feature 7: Embarked\n",
    "This column contains categorical values representing the ports from which passengers embarked on the Titanic. These values will be encoded for model training purposes.\n",
    "\n",
    "As noted earlier, there are null values in this column. Since there's no meaningful way to impute these values without significantly affecting the dataset, we will remove the rows containing them."
   ]
  },
  {
   "cell_type": "code",
   "execution_count": 254,
   "metadata": {},
   "outputs": [],
   "source": [
    "df = df.dropna(subset=[\"embarked\"])"
   ]
  },
  {
   "cell_type": "code",
   "execution_count": 255,
   "metadata": {},
   "outputs": [
    {
     "data": {
      "image/png": "[encoded data removed]",
      "text/plain": [
       "<Figure size 640x480 with 1 Axes>"
      ]
     },
     "metadata": {},
     "output_type": "display_data"
    }
   ],
   "source": [
    "embarked_amounts = [len([y for y in df[\"embarked\"] if y == x]) for x in df[\"embarked\"].unique()]\n",
    "\n",
    "embarked_bar = plt.bar(df[\"embarked\"].unique(), embarked_amounts)\n",
    "plt.bar_label(embarked_bar, labels=embarked_amounts)\n",
    "\n",
    "plt.show()"
   ]
  },
  {
   "cell_type": "markdown",
   "metadata": {},
   "source": [
    "## To predict: Survived\n",
    "This column indicates whether a passenger survived or not. The values are coded as '0' for those who died in the tragedy and '1' for those who survived. This is the target column we aim to predict as accurately as possible."
   ]
  },
  {
   "cell_type": "code",
   "execution_count": 256,
   "metadata": {},
   "outputs": [
    {
     "data": {
      "image/png": "[encoded data removed]",
      "text/plain": [
       "<Figure size 640x480 with 1 Axes>"
      ]
     },
     "metadata": {},
     "output_type": "display_data"
    }
   ],
   "source": [
    "survived_amounts = [len([y for y in df[\"survived\"] if y == x]) for x in df[\"survived\"].unique()]\n",
    "\n",
    "survived_labels = [\"died\" if x == 0 else \"survived\" for x in df[\"survived\"].unique()]\n",
    "\n",
    "survived_bar = plt.bar(df[\"survived\"].unique(), survived_amounts)\n",
    "plt.xticks(range(len(survived_labels)), survived_labels)\n",
    "plt.bar_label(survived_bar, labels=survived_amounts)\n",
    "\n",
    "plt.show()"
   ]
  }
 ],
 "metadata": {
  "kernelspec": {
   "display_name": "venv_mj",
   "language": "python",
   "name": "python3"
  },
  "language_info": {
   "codemirror_mode": {
    "name": "ipython",
    "version": 3
   },
   "file_extension": ".py",
   "mimetype": "text/x-python",
   "name": "python",
   "nbconvert_exporter": "python",
   "pygments_lexer": "ipython3",
   "version": "3.11.0"
  }
 },
 "nbformat": 4,
 "nbformat_minor": 2
}
